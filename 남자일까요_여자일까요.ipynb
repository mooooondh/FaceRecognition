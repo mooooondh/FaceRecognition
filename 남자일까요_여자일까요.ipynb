{
  "cells": [
    {
      "cell_type": "markdown",
      "metadata": {
        "id": "view-in-github",
        "colab_type": "text"
      },
      "source": [
        "<a href=\"https://colab.research.google.com/github/handsome1201/FaceRecognition/blob/master/%EB%82%A8%EC%9E%90%EC%9D%BC%EA%B9%8C%EC%9A%94_%EC%97%AC%EC%9E%90%EC%9D%BC%EA%B9%8C%EC%9A%94.ipynb\" target=\"_parent\"><img src=\"https://colab.research.google.com/assets/colab-badge.svg\" alt=\"Open In Colab\"/></a>"
      ]
    },
    {
      "cell_type": "code",
      "execution_count": null,
      "metadata": {
        "id": "tAiPOr-56lzW"
      },
      "outputs": [],
      "source": [
        "import os\n",
        "import numpy as np\n",
        "import tensorflow as tf\n",
        "from tensorflow import keras\n",
        "from tensorflow.keras.utils import load_img, img_to_array\n",
        "from tensorflow.python.client import device_lib\n",
        "from sklearn.utils import shuffle"
      ]
    },
    {
      "cell_type": "markdown",
      "metadata": {
        "id": "Fo5P5Y_O7H2b"
      },
      "source": [
        "load data"
      ]
    },
    {
      "cell_type": "code",
      "source": [
        "from google.colab import drive\n",
        "drive.mount('/content/drive')"
      ],
      "metadata": {
        "colab": {
          "base_uri": "https://localhost:8080/"
        },
        "id": "VH5dl5InDKJ7",
        "outputId": "afad1dd2-e00f-429c-a71c-2a53fa91f5be"
      },
      "execution_count": null,
      "outputs": [
        {
          "output_type": "stream",
          "name": "stdout",
          "text": [
            "Drive already mounted at /content/drive; to attempt to forcibly remount, call drive.mount(\"/content/drive\", force_remount=True).\n"
          ]
        }
      ]
    },
    {
      "cell_type": "code",
      "execution_count": null,
      "metadata": {
        "id": "EOjVfPZp6mE1"
      },
      "outputs": [],
      "source": [
        "train_file_0= os.listdir(\"/content/drive/MyDrive/공소실 자료/archive/train_data/train_data/남성664\")\n",
        "test_file_0= os.listdir(\"/content/drive/MyDrive/공소실 자료/archive/test_data/test_data_man100\")\n",
        "train_file_1= os.listdir(\"/content/drive/MyDrive/공소실 자료/archive/train_data/train_data/여성718\")\n",
        "test_file_1= os.listdir(\"/content/drive/MyDrive/공소실 자료/archive/test_data/test_data_woman100\")\n",
        "\n",
        "\n",
        "\n",
        "\n",
        "# train_file_0= os.listdir(\"저장장소\")\n",
        "# test_file_0= os.listdir(\"저장장소\")\n",
        "# train_file_1= os.listdir(\"저장장소\")\n",
        "# test_file_1= os.listdir(\"저장장소\")"
      ]
    },
    {
      "cell_type": "markdown",
      "metadata": {
        "id": "-cxODvtU7GBJ"
      },
      "source": [
        "set train data"
      ]
    },
    {
      "cell_type": "code",
      "execution_count": null,
      "metadata": {
        "id": "I0PqF8Xb69VN"
      },
      "outputs": [],
      "source": [
        "X_train= 0\n",
        "check= False\n",
        "\n",
        "for file in train_file_0:\n",
        "    img_data= load_img(\"/content/drive/MyDrive/공소실 자료/archive/train_data/train_data/남성664/\"+file)\n",
        "    img_arr= (img_to_array(img_data))/255\n",
        "    img= img_arr.reshape((1,)+ img_arr.shape)\n",
        "\n",
        "    if(check== False):\n",
        "        X_train= img\n",
        "        check= True\n",
        "    else:\n",
        "        X_train= np.vstack((X_train, img))\n",
        "\n",
        "for file in train_file_1:\n",
        "    img_data= load_img(\"/content/drive/MyDrive/공소실 자료/archive/train_data/train_data/여성718/\"+file)\n",
        "    img_arr= (img_to_array(img_data))/255\n",
        "    img= img_arr.reshape((1,)+ img_arr.shape)\n",
        "    X_train= np.vstack((X_train, img))"
      ]
    },
    {
      "cell_type": "code",
      "execution_count": null,
      "metadata": {
        "id": "NvpxexXD6_Dj"
      },
      "outputs": [],
      "source": [
        "y_train= np.array([0]* len(train_file_0))\n",
        "y_train_1= np.array([1]* len(train_file_1))\n",
        "y_train= np.append(y_train, y_train_1)"
      ]
    },
    {
      "cell_type": "code",
      "execution_count": null,
      "metadata": {
        "id": "YIX_SVTO7AFm",
        "colab": {
          "base_uri": "https://localhost:8080/"
        },
        "outputId": "418e0e44-1f5c-4b5a-94ba-77e6687b8dc3"
      },
      "outputs": [
        {
          "output_type": "stream",
          "name": "stdout",
          "text": [
            "(1382, 480, 480, 3)\n",
            "(1382,)\n"
          ]
        }
      ],
      "source": [
        "print(X_train.shape)\n",
        "print(y_train.shape)"
      ]
    },
    {
      "cell_type": "markdown",
      "metadata": {
        "id": "lGZdNI5Y7Cx1"
      },
      "source": [
        "set test data"
      ]
    },
    {
      "cell_type": "code",
      "execution_count": null,
      "metadata": {
        "id": "oBtjWOI67BFi"
      },
      "outputs": [],
      "source": [
        "X_test= 0\n",
        "check= False\n",
        "\n",
        "for file in test_file_0:\n",
        "    img_data= load_img(\"/content/drive/MyDrive/공소실 자료/archive/test_data/test_data_man100/\"+ file)\n",
        "    img_arr= (img_to_array(img_data))/255\n",
        "    img= img_arr.reshape((1,)+ img_arr.shape)\n",
        "    \n",
        "    if(check== False):\n",
        "        X_test= img\n",
        "        check= True\n",
        "    else:\n",
        "        X_test= np.vstack((X_test, img))\n",
        "        \n",
        "for file in test_file_1:\n",
        "    img_data= load_img(\"/content/drive/MyDrive/공소실 자료/archive/test_data/test_data_woman100/\"+ file)\n",
        "    img_arr= (img_to_array(img_data))/255\n",
        "    img= img_arr.reshape((1,)+ img_arr.shape)\n",
        "    X_test= np.vstack((X_test, img))"
      ]
    },
    {
      "cell_type": "code",
      "execution_count": null,
      "metadata": {
        "id": "rGZ86m3F7CLG"
      },
      "outputs": [],
      "source": [
        "y_test= np.array([0]* len(test_file_0))\n",
        "y_test_1= np.array([1]* len(test_file_1))\n",
        "y_test= np.append(y_test, y_test_1)"
      ]
    },
    {
      "cell_type": "code",
      "execution_count": null,
      "metadata": {
        "id": "QClu6pn-7M6R",
        "colab": {
          "base_uri": "https://localhost:8080/"
        },
        "outputId": "f069057b-24c7-4798-974b-7218f0dbc161"
      },
      "outputs": [
        {
          "output_type": "stream",
          "name": "stdout",
          "text": [
            "(200, 480, 480, 3)\n",
            "(200,)\n"
          ]
        }
      ],
      "source": [
        "print(X_test.shape)\n",
        "print(y_test.shape)"
      ]
    },
    {
      "cell_type": "code",
      "execution_count": null,
      "metadata": {
        "id": "Ld-f_Ccp7N_r"
      },
      "outputs": [],
      "source": [
        "X_train, y_train= shuffle(X_train, y_train, random_state= 42)\n",
        "X_test, y_test= shuffle(X_test, y_test, random_state= 42)"
      ]
    },
    {
      "cell_type": "markdown",
      "metadata": {
        "id": "EQGGT5eG7Qjs"
      },
      "source": [
        "save data"
      ]
    },
    {
      "cell_type": "code",
      "execution_count": null,
      "metadata": {
        "id": "lFa9t8Eo7PMb"
      },
      "outputs": [],
      "source": [
        "np.save(\"/content/drive/MyDrive/공소실 자료/dataset/X_train\", X_train)\n",
        "np.save(\"/content/drive/MyDrive/공소실 자료/dataset/y_train\", y_train)\n",
        "np.save(\"/content/drive/MyDrive/공소실 자료/dataset/X_test\", X_test)\n",
        "np.save(\"/content/drive/MyDrive/공소실 자료/dataset/y_test\", y_test)"
      ]
    },
    {
      "cell_type": "code",
      "execution_count": 1,
      "metadata": {
        "id": "JDkGm5kZpphP"
      },
      "outputs": [],
      "source": [
        "import os\n",
        "import numpy as np\n",
        "import tensorflow as tf\n",
        "from tensorflow import keras\n",
        "from tensorflow.keras.preprocessing import image\n",
        "from tensorflow.python.client import device_lib\n",
        "from sklearn.utils import shuffle"
      ]
    },
    {
      "cell_type": "markdown",
      "metadata": {
        "id": "ZL7G6Dtt7ZT8"
      },
      "source": [
        "load data"
      ]
    },
    {
      "cell_type": "code",
      "execution_count": 12,
      "metadata": {
        "id": "cijq5g6M7YBx"
      },
      "outputs": [],
      "source": [
        "X_train= np.load(\"/content/drive/MyDrive/공소실 자료/dataset/X_train.npy\")\n",
        "y_train= np.load(\"/content/drive/MyDrive/공소실 자료/dataset/y_train.npy\")\n",
        "X_test= np.load(\"/content/drive/MyDrive/공소실 자료/dataset/X_test.npy\")\n",
        "y_test= np.load(\"/content/drive/MyDrive/공소실 자료/dataset/y_test.npy\")"
      ]
    },
    {
      "cell_type": "markdown",
      "metadata": {
        "id": "44acMI9u7bBa"
      },
      "source": [
        "build model"
      ]
    },
    {
      "cell_type": "code",
      "source": [
        "model= keras.models.Sequential()"
      ],
      "metadata": {
        "id": "fk-eILIFv5II"
      },
      "execution_count": 13,
      "outputs": []
    },
    {
      "cell_type": "code",
      "source": [
        "model.add(keras.layers.Conv2D(64, 10, activation= \"relu\", padding= \"same\", input_shape= [60, 60, 3]))\n",
        "model.add(keras.layers.MaxPooling2D(2))\n",
        "model.add(keras.layers.Conv2D(128, 4, activation= \"relu\", padding= \"same\"))\n",
        "model.add(keras.layers.Conv2D(128, 4, activation= \"relu\", padding= \"same\"))\n",
        "model.add(keras.layers.MaxPooling2D(2))\n",
        "model.add(keras.layers.Conv2D(256, 4, activation= \"relu\", padding= \"same\"))\n",
        "model.add(keras.layers.Conv2D(256, 4, activation= \"relu\", padding= \"same\"))\n",
        "model.add(keras.layers.Flatten())\n",
        "model.add(keras.layers.Dense(128, activation= \"relu\"))\n",
        "model.add(keras.layers.Dropout(0.5))\n",
        "model.add(keras.layers.Dense(64, activation= \"relu\"))\n",
        "model.add(keras.layers.Dropout(0.5))\n",
        "model.add(keras.layers.Dense(2, activation= \"softmax\"))\n"
      ],
      "metadata": {
        "id": "gq9iJGSlv9IY"
      },
      "execution_count": null,
      "outputs": []
    },
    {
      "cell_type": "code",
      "execution_count": 5,
      "metadata": {
        "id": "71YXtcpv7eBU"
      },
      "outputs": [],
      "source": [
        "model.compile(loss= \"sparse_categorical_crossentropy\", optimizer= \"sgd\", metrics= [\"accuracy\"])"
      ]
    },
    {
      "cell_type": "markdown",
      "metadata": {
        "id": "hwrRVZF87gcL"
      },
      "source": [
        "train"
      ]
    },
    {
      "cell_type": "code",
      "execution_count": null,
      "metadata": {
        "id": "AqZlAkWT7hwN"
      },
      "outputs": [],
      "source": [
        "history= model.fit(X_train, y_train, epochs=45)"
      ]
    },
    {
      "cell_type": "code",
      "execution_count": null,
      "metadata": {
        "id": "5R60FqxS7lV9"
      },
      "outputs": [],
      "source": [
        "print(model.evaluate(X_test,y_test))"
      ]
    },
    {
      "cell_type": "markdown",
      "metadata": {
        "id": "9hnxtG_C7px2"
      },
      "source": [
        "check loss and accuracy"
      ]
    },
    {
      "cell_type": "code",
      "execution_count": 8,
      "metadata": {
        "id": "Q5QAArWD7iow"
      },
      "outputs": [],
      "source": [
        "import pandas as pd\n",
        "import matplotlib.pyplot as plt"
      ]
    },
    {
      "cell_type": "code",
      "execution_count": 9,
      "metadata": {
        "id": "rKBivrtj7tqI",
        "colab": {
          "base_uri": "https://localhost:8080/",
          "height": 324
        },
        "outputId": "e3e6b969-e4fc-44fe-e870-1ffcc5d27b61"
      },
      "outputs": [
        {
          "output_type": "display_data",
          "data": {
            "text/plain": [
              "<Figure size 576x360 with 1 Axes>"
            ],
            "image/png": "[encoded data removed]"
          },
          "metadata": {
            "needs_background": "light"
          }
        }
      ],
      "source": [
        "pd.DataFrame(history.history).plot(figsize= (8, 5))\n",
        "plt.grid(True)\n",
        "plt.gca().set_ylim(0, 1)\n",
        "plt.show()"
      ]
    },
    {
      "cell_type": "markdown",
      "metadata": {
        "id": "Cf-9BWgL7xM6"
      },
      "source": [
        "use test data"
      ]
    },
    {
      "cell_type": "code",
      "execution_count": 10,
      "metadata": {
        "id": "YIxkgzuT70xd",
        "colab": {
          "base_uri": "https://localhost:8080/"
        },
        "outputId": "47b9dab5-9dd3-4907-b4d2-074b91303144"
      },
      "outputs": [
        {
          "output_type": "stream",
          "name": "stdout",
          "text": [
            "7/7 [==============================] - 4s 573ms/step\n"
          ]
        }
      ],
      "source": [
        "y_predicted= model.predict(X_test)\n",
        "y_pred = y_predicted.argmax(axis=-1)"
      ]
    },
    {
      "cell_type": "code",
      "execution_count": 11,
      "metadata": {
        "id": "6hbevTflqlpU",
        "colab": {
          "base_uri": "https://localhost:8080/"
        },
        "outputId": "0dcc3b8e-1c51-4bd2-b848-190c5164aafd"
      },
      "outputs": [
        {
          "output_type": "execute_result",
          "data": {
            "text/plain": [
              "0.865"
            ]
          },
          "metadata": {},
          "execution_count": 11
        }
      ],
      "source": [
        "from sklearn.metrics import accuracy_score\n",
        "\n",
        "accuracy_score(y_test,y_pred)"
      ]
    },
    {
      "cell_type": "code",
      "execution_count": 12,
      "metadata": {
        "id": "4QyXKcFpJWYQ"
      },
      "outputs": [],
      "source": [
        "from keras.models import load_model\n",
        "\n",
        "model.save('girl_boy_predict_epoch40.h5')"
      ]
    },
    {
      "cell_type": "code",
      "execution_count": 14,
      "metadata": {
        "id": "Ba5NvjZbKKcb"
      },
      "outputs": [],
      "source": [
        "from keras.models import load_model\n",
        "\n",
        "model = load_model('girl_boy_predict_epoch40.h5')"
      ]
    },
    {
      "cell_type": "markdown",
      "metadata": {
        "id": "Upzeka9XwAnH"
      },
      "source": [
        "데이터를 확인해 볼 사진을 지정 위치에 남녀 구분해서 값을 저장(필요)"
      ]
    },
    {
      "cell_type": "code",
      "execution_count": 15,
      "metadata": {
        "id": "fQjHZDNtCbPu",
        "colab": {
          "base_uri": "https://localhost:8080/"
        },
        "outputId": "978be326-8d50-4cc7-897d-604e1aa79cde"
      },
      "outputs": [
        {
          "output_type": "stream",
          "name": "stdout",
          "text": [
            "[[[[0.41960785 0.15294118 0.09411765]\n",
            "   [0.42352942 0.15294118 0.09019608]\n",
            "   [0.43137255 0.15294118 0.08627451]\n",
            "   ...\n",
            "   [1.         1.         1.        ]\n",
            "   [1.         1.         1.        ]\n",
            "   [1.         1.         1.        ]]\n",
            "\n",
            "  [[0.41568628 0.15294118 0.09803922]\n",
            "   [0.41960785 0.15294118 0.09411765]\n",
            "   [0.42745098 0.15686275 0.08627451]\n",
            "   ...\n",
            "   [1.         1.         1.        ]\n",
            "   [1.         1.         1.        ]\n",
            "   [1.         1.         1.        ]]\n",
            "\n",
            "  [[0.40784314 0.15686275 0.10588235]\n",
            "   [0.41568628 0.15686275 0.09803922]\n",
            "   [0.41960785 0.15686275 0.09019608]\n",
            "   ...\n",
            "   [1.         1.         1.        ]\n",
            "   [1.         1.         1.        ]\n",
            "   [1.         1.         1.        ]]\n",
            "\n",
            "  ...\n",
            "\n",
            "  [[0.9490196  0.96862745 0.99607843]\n",
            "   [0.9490196  0.96862745 0.99607843]\n",
            "   [0.9490196  0.96862745 0.99607843]\n",
            "   ...\n",
            "   [1.         1.         1.        ]\n",
            "   [1.         1.         1.        ]\n",
            "   [1.         1.         1.        ]]\n",
            "\n",
            "  [[1.         1.         1.        ]\n",
            "   [1.         1.         1.        ]\n",
            "   [1.         1.         1.        ]\n",
            "   ...\n",
            "   [1.         1.         1.        ]\n",
            "   [1.         1.         1.        ]\n",
            "   [1.         1.         1.        ]]\n",
            "\n",
            "  [[1.         1.         1.        ]\n",
            "   [1.         1.         1.        ]\n",
            "   [1.         1.         1.        ]\n",
            "   ...\n",
            "   [1.         1.         1.        ]\n",
            "   [1.         1.         1.        ]\n",
            "   [1.         1.         1.        ]]]\n",
            "\n",
            "\n",
            " [[[0.40784314 0.49411765 0.5882353 ]\n",
            "   [0.4117647  0.49803922 0.5921569 ]\n",
            "   [0.4117647  0.49803922 0.5921569 ]\n",
            "   ...\n",
            "   [0.16862746 0.22352941 0.27450982]\n",
            "   [0.16862746 0.22352941 0.26666668]\n",
            "   [0.16862746 0.22352941 0.26666668]]\n",
            "\n",
            "  [[0.49411765 0.5803922  0.67058825]\n",
            "   [0.49803922 0.58431375 0.6745098 ]\n",
            "   [0.5019608  0.5882353  0.6784314 ]\n",
            "   ...\n",
            "   [0.16862746 0.22352941 0.27450982]\n",
            "   [0.16862746 0.22352941 0.26666668]\n",
            "   [0.16862746 0.22352941 0.26666668]]\n",
            "\n",
            "  [[0.49019608 0.57254905 0.654902  ]\n",
            "   [0.49411765 0.5764706  0.65882355]\n",
            "   [0.49803922 0.5803922  0.6627451 ]\n",
            "   ...\n",
            "   [0.16862746 0.22352941 0.27450982]\n",
            "   [0.16862746 0.22352941 0.26666668]\n",
            "   [0.16862746 0.22352941 0.26666668]]\n",
            "\n",
            "  ...\n",
            "\n",
            "  [[0.50980395 0.3137255  0.18431373]\n",
            "   [0.50980395 0.3137255  0.18431373]\n",
            "   [0.50980395 0.3137255  0.18431373]\n",
            "   ...\n",
            "   [0.54901963 0.33333334 0.18039216]\n",
            "   [0.54901963 0.33333334 0.18039216]\n",
            "   [0.54509807 0.32941177 0.1764706 ]]\n",
            "\n",
            "  [[0.50980395 0.3137255  0.18431373]\n",
            "   [0.50980395 0.3137255  0.18431373]\n",
            "   [0.50980395 0.3137255  0.18431373]\n",
            "   ...\n",
            "   [0.5529412  0.3372549  0.18431373]\n",
            "   [0.54901963 0.33333334 0.18039216]\n",
            "   [0.54901963 0.33333334 0.18039216]]\n",
            "\n",
            "  [[0.50980395 0.3137255  0.18431373]\n",
            "   [0.50980395 0.3137255  0.18431373]\n",
            "   [0.5058824  0.30980393 0.18039216]\n",
            "   ...\n",
            "   [0.5529412  0.3372549  0.18431373]\n",
            "   [0.5529412  0.3372549  0.18431373]\n",
            "   [0.5529412  0.3372549  0.18431373]]]\n",
            "\n",
            "\n",
            " [[[0.07843138 0.13725491 0.14901961]\n",
            "   [0.07843138 0.13725491 0.14901961]\n",
            "   [0.07843138 0.13725491 0.14901961]\n",
            "   ...\n",
            "   [0.10980392 0.12156863 0.15686275]\n",
            "   [0.10980392 0.12156863 0.15686275]\n",
            "   [0.10980392 0.12156863 0.15686275]]\n",
            "\n",
            "  [[0.11372549 0.12156863 0.11764706]\n",
            "   [0.11372549 0.12156863 0.11764706]\n",
            "   [0.11372549 0.12156863 0.11764706]\n",
            "   ...\n",
            "   [0.11764706 0.12156863 0.12941177]\n",
            "   [0.11764706 0.12156863 0.12941177]\n",
            "   [0.11764706 0.12156863 0.12941177]]\n",
            "\n",
            "  [[0.14901961 0.10980392 0.10196079]\n",
            "   [0.14901961 0.10980392 0.10196079]\n",
            "   [0.14901961 0.10980392 0.10196079]\n",
            "   ...\n",
            "   [0.1254902  0.12941177 0.10980392]\n",
            "   [0.1254902  0.12941177 0.10980392]\n",
            "   [0.1254902  0.12941177 0.10980392]]\n",
            "\n",
            "  ...\n",
            "\n",
            "  [[0.02745098 0.24705882 0.6117647 ]\n",
            "   [0.03137255 0.2509804  0.6156863 ]\n",
            "   [0.03529412 0.25490198 0.61960787]\n",
            "   ...\n",
            "   [0.19215687 0.42745098 0.8039216 ]\n",
            "   [0.18431373 0.43137255 0.8117647 ]\n",
            "   [0.1882353  0.43529412 0.8156863 ]]\n",
            "\n",
            "  [[0.0627451  0.29411766 0.6627451 ]\n",
            "   [0.0627451  0.29411766 0.6627451 ]\n",
            "   [0.06666667 0.29803923 0.6666667 ]\n",
            "   ...\n",
            "   [0.19215687 0.42745098 0.8117647 ]\n",
            "   [0.19215687 0.42352942 0.8156863 ]\n",
            "   [0.19215687 0.42352942 0.8156863 ]]\n",
            "\n",
            "  [[0.06666667 0.29803923 0.6666667 ]\n",
            "   [0.06666667 0.30588236 0.67058825]\n",
            "   [0.07058824 0.30980393 0.6745098 ]\n",
            "   ...\n",
            "   [0.19607843 0.42352942 0.8156863 ]\n",
            "   [0.19215687 0.42352942 0.8156863 ]\n",
            "   [0.19215687 0.42352942 0.8156863 ]]]]\n"
          ]
        }
      ],
      "source": [
        "from keras.utils import image_utils\n",
        "\n",
        "test0= os.listdir(\"/content/drive/MyDrive/공소실 자료/archive/제목없는 폴더/남자\")\n",
        "test1= os.listdir(\"/content/drive/MyDrive/공소실 자료/archive/제목없는 폴더/여자\")\n",
        "\n",
        "X_test_what= 0\n",
        "check= False\n",
        "\n",
        "for file in test0:\n",
        "    img_data= image_utils.load_img(\"/content/drive/MyDrive/공소실 자료/archive/제목없는 폴더/남자/\"+ file)\n",
        "    img_arr= (image_utils.img_to_array(img_data))/255\n",
        "    img= img_arr.reshape((1,)+ img_arr.shape)\n",
        "    \n",
        "    if(check== False):\n",
        "        X_test_what= img\n",
        "        check= True\n",
        "    else:\n",
        "        X_test_what= np.vstack((X_test_what, img))\n",
        "        \n",
        "for file in test1:\n",
        "    img_data= image_utils.load_img(\"/content/drive/MyDrive/공소실 자료/archive/제목없는 폴더/여자/\"+ file)\n",
        "    img_arr= (image_utils.img_to_array(img_data))/255\n",
        "    img= img_arr.reshape((1,)+ img_arr.shape)\n",
        "    X_test_what= np.vstack((X_test_what, img))\n",
        "    \n",
        "\n",
        "y_test_what= np.array([0]* len(test0))\n",
        "y_test_1= np.array([1]* len(test1))\n",
        "y_test_what= np.append(y_test_what, y_test_1)\n",
        "print(X_test_what)"
      ]
    },
    {
      "cell_type": "code",
      "execution_count": 16,
      "metadata": {
        "id": "nXvuXRiXCbSh",
        "colab": {
          "base_uri": "https://localhost:8080/"
        },
        "outputId": "1ade5193-6261-498b-84d2-c227f1c55a6b"
      },
      "outputs": [
        {
          "output_type": "stream",
          "name": "stdout",
          "text": [
            "1/1 [==============================] - 1s 1s/step\n"
          ]
        }
      ],
      "source": [
        "y_predicted= model.predict(X_test_what)\n",
        "y_pred1 = y_predicted.argmax(axis=-1)"
      ]
    },
    {
      "cell_type": "markdown",
      "metadata": {
        "id": "xrRl7s0y7_XU"
      },
      "source": [
        "check accuracy"
      ]
    },
    {
      "cell_type": "code",
      "execution_count": 17,
      "metadata": {
        "id": "n9qBsu3X8Bn-",
        "colab": {
          "base_uri": "https://localhost:8080/"
        },
        "outputId": "d7fec7ac-4975-4cb1-e0a5-83ab8066fdbc"
      },
      "outputs": [
        {
          "output_type": "stream",
          "name": "stdout",
          "text": [
            "0.865\n"
          ]
        }
      ],
      "source": [
        "accuracy= 0\n",
        "\n",
        "for i in range(len(y_test)):\n",
        "    if(y_test[i]== y_pred[i]):\n",
        "        accuracy+= 1\n",
        "        \n",
        "print(accuracy/len(y_test))"
      ]
    },
    {
      "cell_type": "markdown",
      "metadata": {
        "id": "j4D6Vetlv4MA"
      },
      "source": [
        "확인하고 싶은 사진 결과 확인인"
      ]
    },
    {
      "cell_type": "code",
      "execution_count": null,
      "metadata": {
        "id": "SpQWGOkDvhPS"
      },
      "outputs": [],
      "source": [
        "import matplotlib.pyplot as plt\n",
        "\n",
        "\n",
        "for a in range(len(y_pred1)):\n",
        "\n",
        "  plt.rcParams['figure.figsize'] = (5, 5) \n",
        "  plt.imshow(X_test_what[a])\n",
        "  plt.show()\n",
        "\n",
        "\n",
        "  if (y_pred1[a]==1):\n",
        "      print(\"예측: 여성\",accuracy_score(y_test,y_pred)*100,\"%\")\n",
        "      if(y_test_what[a]==0):\n",
        "        print(\"정답: 남성\")\n",
        "      else:\n",
        "        print(\"정답: 여성\")\n",
        "  else:\n",
        "      print(\"예측: 남성\",accuracy_score(y_test,y_pred)*100,\"%\")\n",
        "      if(y_test_what[a]==0):\n",
        "        print(\"정답: 남성\")\n",
        "      else:\n",
        "        print(\"정답: 여성\")\n",
        "\n",
        "#필요요"
      ]
    }
  ],
  "metadata": {
    "accelerator": "GPU",
    "colab": {
      "machine_shape": "hm",
      "provenance": [],
      "mount_file_id": "1Q3lxPWqmRUA5_JCFLJNUhj8LpAYchhb8",
      "authorship_tag": "ABX9TyO7+lOOL91OPDQNncEeyGJt",
      "include_colab_link": true
    },
    "gpuClass": "premium",
    "kernelspec": {
      "display_name": "Python 3",
      "name": "python3"
    },
    "language_info": {
      "name": "python"
    }
  },
  "nbformat": 4,
  "nbformat_minor": 0
}